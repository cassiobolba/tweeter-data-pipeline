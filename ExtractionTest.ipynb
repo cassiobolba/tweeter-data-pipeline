{
 "metadata": {
  "language_info": {
   "codemirror_mode": {
    "name": "ipython",
    "version": 3
   },
   "file_extension": ".py",
   "mimetype": "text/x-python",
   "name": "python",
   "nbconvert_exporter": "python",
   "pygments_lexer": "ipython3",
   "version": "3.8.3-final"
  },
  "orig_nbformat": 2,
  "kernelspec": {
   "name": "python3",
   "display_name": "Python 3.8.3 32-bit",
   "metadata": {
    "interpreter": {
     "hash": "fd79791493db95631836c987676c1d89245328bd2de772c91e26deceffbc872c"
    }
   }
  }
 },
 "nbformat": 4,
 "nbformat_minor": 2,
 "cells": [
  {
   "cell_type": "code",
   "execution_count": 1,
   "metadata": {},
   "outputs": [],
   "source": [
    "import tweepy as tw\n",
    "import pandas as pd\n",
    "import datetime as dt\n",
    "import fastparquet \n",
    "from log_module import logger_error,logger_info"
   ]
  },
  {
   "cell_type": "code",
   "execution_count": 2,
   "metadata": {},
   "outputs": [],
   "source": [
    "consumer_key = '1m0fGzCVJPfKCXOyPEoNPs9fy'\n",
    "consumer_secret = 'Ze8nzsoHuMOWRCgIRu6pnvufsqq912G5rlTCRGJL75EmmSzBWq'\n",
    "access_token = '74554547-FOA0hIvS8qS2RbPFvEYvk0CmYfRpXzsKpAi9QxbuZ'\n",
    "access_token_secret = 'Nm83fui8LlDrsdrStvpmOeIUA7T8YbyWgUiYl1i2ylS9b'\n",
    "\n",
    "auth = tw.OAuthHandler(consumer_key, consumer_secret)\n",
    "auth.set_access_token(access_token, access_token_secret)\n",
    "api = tw.API(auth,wait_on_rate_limit=True)\n"
   ]
  },
  {
   "cell_type": "code",
   "execution_count": 14,
   "metadata": {},
   "outputs": [
    {
     "output_type": "stream",
     "name": "stdout",
     "text": [
      "2021-03-01 2021-03-02\n"
     ]
    }
   ],
   "source": [
    "# Define the search term \n",
    "search_words = \"#FlixBus\"\n",
    "\n",
    "# Define the date range to look for the search_word\n",
    "# if both are set to 0 = current day\n",
    "start_days = 1\n",
    "end_days = 0\n",
    "today = dt.date.today()\n",
    "\n",
    "date_since = today - dt.timedelta(days=start_days)\n",
    "date_until = today + dt.timedelta(days=end_days)\n",
    "print(date_since,date_until)"
   ]
  },
  {
   "cell_type": "code",
   "execution_count": 15,
   "metadata": {},
   "outputs": [],
   "source": [
    "# Connecting with API to do a search based on date and query\n",
    "try:\n",
    "    tweets = tw.Cursor(api.search \n",
    "                            ,q = search_words\n",
    "                            ,since = date_since\n",
    "                            ,until = date_until\n",
    "                        ).items(200)\n",
    "\n",
    "    users_locs = [[ \n",
    "                     tweet.id\n",
    "                    ,tweet.user.id\n",
    "                    ,tweet.user.location\n",
    "                    ,tweet.user.followers_count\n",
    "                    ,tweet.created_at\n",
    "                    ,tweet.text \n",
    "                    ,tweet.user.statuses_count\n",
    "                    ]for tweet in tweets]\n",
    "    logger_info(f\"Hashtag search was sucessfull from {date_since} to {date_until} !\",today)\n",
    "except Exception as e:\n",
    "    logger_error(e,today)"
   ]
  },
  {
   "cell_type": "code",
   "execution_count": 16,
   "metadata": {},
   "outputs": [
    {
     "output_type": "execute_result",
     "data": {
      "text/plain": [
       "[[1366499320766357506,\n",
       "  1331037722086158338,\n",
       "  'Metaverse',\n",
       "  885,\n",
       "  datetime.datetime(2021, 3, 1, 21, 23, 21),\n",
       "  'RT @NCrypted: How does #Flixbus make money as a #Smartbus #travel platform?  https://t.co/nVJVcClL5C #busservice #FlixMobility #startups #e…',\n",
       "  93002],\n",
       " [1366498478445236238,\n",
       "  199576549,\n",
       "  'sales@ncrypted.com',\n",
       "  10191,\n",
       "  datetime.datetime(2021, 3, 1, 21, 20),\n",
       "  'How does #Flixbus make money as a #Smartbus #travel platform?  https://t.co/nVJVcClL5C #busservice #FlixMobility… https://t.co/mV4ipYPoed',\n",
       "  5624]]"
      ]
     },
     "metadata": {},
     "execution_count": 16
    }
   ],
   "source": [
    "users_locs"
   ]
  },
  {
   "cell_type": "code",
   "execution_count": 17,
   "metadata": {},
   "outputs": [],
   "source": [
    "# Creating parquet file and storing in the raw zone\n",
    "try:\n",
    "    if users_locs:\n",
    "        df = pd.DataFrame(users_locs,columns=[\n",
    "                                                'tweetId'\n",
    "                                                ,'userId'\n",
    "                                                ,'location'\n",
    "                                                ,'userFollowers'\n",
    "                                                ,'createdAt'\n",
    "                                                ,'tweetText'\n",
    "                                                ,'userTweets'])\n",
    "        df.to_parquet(f'rawZone/flixBus#{today}.parquet.gzip', compression='gzip')\n",
    "        logger_info(f\"Hashtag search generated file flixBus#{today} from {date_since} to {date_until} !\",today)\n",
    "    else:\n",
    "        logger_info(f\"Hashtag search generated no data from {date_since} to {date_until} !\",today)\n",
    "except Exception as e:\n",
    "    logger_error(e,today)\n",
    "    "
   ]
  },
  {
   "cell_type": "code",
   "execution_count": null,
   "metadata": {},
   "outputs": [],
   "source": []
  }
 ]
}